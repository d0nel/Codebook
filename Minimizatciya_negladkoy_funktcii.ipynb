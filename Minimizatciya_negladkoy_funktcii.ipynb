{
  "nbformat": 4,
  "nbformat_minor": 0,
  "metadata": {
    "colab": {
      "name": "Minimizatciya_negladkoy_funktcii.ipynb",
      "provenance": [],
      "collapsed_sections": []
    },
    "kernelspec": {
      "name": "python3",
      "display_name": "Python 3"
    },
    "language_info": {
      "name": "python"
    }
  },
  "cells": [
    {
      "cell_type": "code",
      "metadata": {
        "id": "KWxv8SRw9l3_"
      },
      "source": [
        "import math\n",
        "import numpy as np\n",
        "import matplotlib\n",
        "import scipy"
      ],
      "execution_count": null,
      "outputs": []
    },
    {
      "cell_type": "code",
      "metadata": {
        "id": "u4jNDGnf96Q1"
      },
      "source": [
        "def func(x):\n",
        "  return int(math.sin(x / 5.0) * math.exp(x / 10.0) + 5 * math.exp(-x / 2.0))\n",
        "\n",
        "xArray = np.arange(1,30,0.01)\n",
        "yArray =np.array([func(x) for x in xArray])"
      ],
      "execution_count": null,
      "outputs": []
    },
    {
      "cell_type": "code",
      "metadata": {
        "colab": {
          "base_uri": "https://localhost:8080/",
          "height": 265
        },
        "id": "ZE7PU42hBBSu",
        "outputId": "37f6f87b-b5a2-4c79-9edf-639fffb31ba5"
      },
      "source": [
        "from matplotlib import pylab as plt\n",
        "\n",
        "%matplotlib inline\n",
        "\n",
        "plt.plot(xArray,yArray)\n",
        "plt.show()"
      ],
      "execution_count": null,
      "outputs": [
        {
          "output_type": "display_data",
          "data": {
            "image/png": "[encoded data removed]",
            "text/plain": [
              "<Figure size 432x288 with 1 Axes>"
            ]
          },
          "metadata": {
            "tags": [],
            "needs_background": "light"
          }
        }
      ]
    },
    {
      "cell_type": "code",
      "metadata": {
        "colab": {
          "base_uri": "https://localhost:8080/"
        },
        "id": "815PgYjwBPyv",
        "outputId": "f382f84e-0033-41b3-b352-f66b5b90e66f"
      },
      "source": [
        "from scipy.optimize import minimize,differential_evolution\n",
        "\n",
        "min1 = minimize(func, 30, method='BFGS')\n",
        "print('Minimize method = ', min1.fun)\n",
        "\n",
        "min2 = differential_evolution(func,[(1,30)])\n",
        "print('Differential Evolution method = ', min2.fun)"
      ],
      "execution_count": null,
      "outputs": [
        {
          "output_type": "stream",
          "text": [
            "Minimize method =  -5\n",
            "Differential Evolution method =  -11.0\n"
          ],
          "name": "stdout"
        }
      ]
    }
  ]
}