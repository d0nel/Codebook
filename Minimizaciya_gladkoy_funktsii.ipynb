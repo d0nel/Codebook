{
  "nbformat": 4,
  "nbformat_minor": 0,
  "metadata": {
    "colab": {
      "name": "Minimizaciya_gladkoy_funktsii.ipynb",
      "provenance": [],
      "collapsed_sections": []
    },
    "kernelspec": {
      "name": "python3",
      "display_name": "Python 3"
    },
    "language_info": {
      "name": "python"
    }
  },
  "cells": [
    {
      "cell_type": "code",
      "metadata": {
        "id": "9sh0UxmCTWCk"
      },
      "source": [
        "import scipy\n",
        "import math\n",
        "import numpy as np\n",
        "import matplotlib"
      ],
      "execution_count": null,
      "outputs": []
    },
    {
      "cell_type": "code",
      "metadata": {
        "id": "IF0rPGOrWs_s"
      },
      "source": [
        "def func1(x):\n",
        "  return math.sin(x / 5.0) * math.exp(x / 10.0) + 5 * math.exp(-x / 2.0)"
      ],
      "execution_count": null,
      "outputs": []
    },
    {
      "cell_type": "code",
      "metadata": {
        "colab": {
          "base_uri": "https://localhost:8080/"
        },
        "id": "Xq8ePSIjTlcn",
        "outputId": "98b7a0bb-c448-412c-feac-e8c3be999092"
      },
      "source": [
        "x = np.arange(1,30.1,0.1)\n",
        "y = []\n",
        "for step in x:\n",
        "  f_n = math.sin(step / 5.0) * math.exp(step / 10.0) + 5 * math.exp(-step / 2.0)\n",
        "  y.append(f_n)\n",
        "y = np.array(y)\n",
        "\n",
        "from scipy.optimize import minimize_scalar\n",
        "res = minimize_scalar(f)\n",
        "res.x\n"
      ],
      "execution_count": null,
      "outputs": [
        {
          "output_type": "execute_result",
          "data": {
            "text/plain": [
              "4.136288691741067"
            ]
          },
          "metadata": {
            "tags": []
          },
          "execution_count": 25
        }
      ]
    },
    {
      "cell_type": "code",
      "metadata": {
        "colab": {
          "base_uri": "https://localhost:8080/",
          "height": 269
        },
        "id": "HON8fWT500qp",
        "outputId": "1bc77ba4-8cae-4a9c-d39d-74db5e9845c0"
      },
      "source": [
        "%matplotlib inline\n",
        "\n",
        "from matplotlib import pylab as plt\n",
        "x = np.arange(1,30,0.1)\n",
        "y = np.sin(x / 5) * np.exp(x / 10) + 5 * np.exp(-x / 2)\n",
        "plt.plot(x,y)\n",
        "plt.show()"
      ],
      "execution_count": null,
      "outputs": [
        {
          "output_type": "display_data",
          "data": {
            "image/png": "[encoded data removed]",
            "text/plain": [
              "<Figure size 432x288 with 1 Axes>"
            ]
          },
          "metadata": {
            "tags": [],
            "needs_background": "light"
          }
        }
      ]
    },
    {
      "cell_type": "code",
      "metadata": {
        "colab": {
          "base_uri": "https://localhost:8080/"
        },
        "id": "to7AxFTZXxBu",
        "outputId": "97ce06fb-a392-4743-dc13-b2a847552115"
      },
      "source": [
        "from scipy.optimize import minimize\n",
        "\n",
        "min = minimize(func1, 25,method='BFGS')\n",
        "print(min)\n",
        "print(\"Minimized f(x) (standard method): \", min.fun, \"for x = \", min.x)\n",
        "print(\"Number of iterations: \", min.nit)"
      ],
      "execution_count": null,
      "outputs": [
        {
          "output_type": "stream",
          "text": [
            "      fun: -11.89889466596626\n",
            " hess_inv: array([[1.67418754]])\n",
            "      jac: array([-4.29153442e-06])\n",
            "  message: 'Optimization terminated successfully.'\n",
            "     nfev: 15\n",
            "      nit: 4\n",
            "     njev: 5\n",
            "   status: 0\n",
            "  success: True\n",
            "        x: array([25.88018592])\n",
            "Minimized f(x) (standard method):  -11.89889466596626 for x =  [25.88018592]\n",
            "Number of iterations:  4\n"
          ],
          "name": "stdout"
        }
      ]
    }
  ]
}