{
  "nbformat": 4,
  "nbformat_minor": 0,
  "metadata": {
    "colab": {
      "name": "Raschyot_teorii_veroyatnosti.ipynb",
      "provenance": []
    },
    "kernelspec": {
      "name": "python3",
      "display_name": "Python 3"
    },
    "language_info": {
      "name": "python"
    }
  },
  "cells": [
    {
      "cell_type": "code",
      "metadata": {
        "id": "WNgrjDaOUAXu"
      },
      "source": [
        "#An - вероятность n-ой группы крови у австралийца\n",
        "#PBn - вероятность того, что кровь можно переливать другому человеку"
      ],
      "execution_count": null,
      "outputs": []
    },
    {
      "cell_type": "code",
      "metadata": {
        "id": "0fVslimVUji-"
      },
      "source": [
        "A1 = 0.49\n",
        "A2 = 0.38\n",
        "A3 = 0.1\n",
        "A4 = 0.03"
      ],
      "execution_count": null,
      "outputs": []
    },
    {
      "cell_type": "code",
      "metadata": {
        "colab": {
          "base_uri": "https://localhost:8080/"
        },
        "id": "ngaCHCGbVBNI",
        "outputId": "b6ca96b5-1546-49e2-f834-0607b449eaa2"
      },
      "source": [
        "PB1 = A1\n",
        "PB2 = A1 + A2\n",
        "PB3 = A1 + A3\n",
        "PB4 = A1 + A2 + A3 + A4\n",
        "\n",
        "PR = A1*PB1 + A2*PB2 + A3*PB3 + A4*PB4\n",
        "PR"
      ],
      "execution_count": null,
      "outputs": [
        {
          "output_type": "execute_result",
          "data": {
            "text/plain": [
              "0.6597"
            ]
          },
          "metadata": {
            "tags": []
          },
          "execution_count": 8
        }
      ]
    },
    {
      "cell_type": "code",
      "metadata": {
        "id": "jpAVVJfu7y5N"
      },
      "source": [
        "import math"
      ],
      "execution_count": null,
      "outputs": []
    },
    {
      "cell_type": "code",
      "metadata": {
        "colab": {
          "base_uri": "https://localhost:8080/"
        },
        "id": "c9sCKMYU6qt9",
        "outputId": "8015f02d-4fbd-4d8b-c56c-c58a8f236c36"
      },
      "source": [
        "p = 0.2\n",
        "n = 10\n",
        "k = 1\n",
        "C = math.factorial(n)/(math.factorial(k)*math.factorial(n-k))\n",
        "pxn = p**n\n",
        "\n",
        "pxk = C * p**k * (1-p)**(n-k)\n",
        "pxk"
      ],
      "execution_count": null,
      "outputs": [
        {
          "output_type": "execute_result",
          "data": {
            "text/plain": [
              "0.2684354560000001"
            ]
          },
          "metadata": {
            "tags": []
          },
          "execution_count": 7
        }
      ]
    }
  ]
}