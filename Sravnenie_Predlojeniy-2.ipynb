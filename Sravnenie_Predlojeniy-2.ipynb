{
  "nbformat": 4,
  "nbformat_minor": 0,
  "metadata": {
    "colab": {
      "name": "Sravnenie_Predlojeniy.ipynb",
      "provenance": [],
      "collapsed_sections": []
    },
    "kernelspec": {
      "name": "python3",
      "display_name": "Python 3"
    },
    "language_info": {
      "name": "python"
    }
  },
  "cells": [
    {
      "cell_type": "code",
      "metadata": {
        "id": "LaJriyTtQ5yU"
      },
      "source": [
        "from google.colab import drive\n",
        "drive.mount('/content/drive')\n",
        "import re\n",
        "import numpy as np\n"
      ],
      "execution_count": null,
      "outputs": []
    },
    {
      "cell_type": "code",
      "metadata": {
        "colab": {
          "base_uri": "https://localhost:8080/"
        },
        "id": "Kk9kgsjyRZkU",
        "outputId": "48d687f7-1613-43aa-f43a-80ff305cf1f1"
      },
      "source": [
        "text = open('/content/drive/My Drive/MA/sentences.txt')\n",
        "linecount = 0\n",
        "tokens = []\n",
        "for line in text:\n",
        "  line = line.lower()\n",
        "  linecount = linecount + 1\n",
        "  line = re.split('[^a-z]', line)\n",
        "  tokens = tokens + line\n",
        "print\n",
        "while '' in tokens:\n",
        "    tokens.remove('')\n",
        "print('There are ', linecount,\" sentences.\")"
      ],
      "execution_count": null,
      "outputs": [
        {
          "output_type": "stream",
          "text": [
            "There are  22  sentences.\n"
          ],
          "name": "stdout"
        }
      ]
    },
    {
      "cell_type": "code",
      "metadata": {
        "id": "3Ejfv_7KxWk7"
      },
      "source": [
        "words_count = {}\n",
        "n = 0\n",
        "tokens_updated = []\n",
        "for word in tokens:\n",
        "  if word not in tokens_updated:\n",
        "    tokens_updated.append(word)\n",
        "  if word not in words_count:\n",
        "    words_count[word] = n\n",
        "    n = n + 1\n"
      ],
      "execution_count": null,
      "outputs": []
    },
    {
      "cell_type": "code",
      "metadata": {
        "id": "-ASEWsX1-qZd"
      },
      "source": [
        "text = open('/content/drive/My Drive/MA/sentences.txt')\n",
        "sentences = []\n",
        "sentences_splitted = []\n",
        "sentences = text.read().lower().splitlines()\n",
        "for item in sentences:\n",
        "  item = re.split('[^a-z]', item)\n",
        "  while '' in item:\n",
        "    item.remove('')\n",
        "  sentences_splitted.append(item)\n"
      ],
      "execution_count": null,
      "outputs": []
    },
    {
      "cell_type": "code",
      "metadata": {
        "id": "Tni7hvr2dlfo"
      },
      "source": [
        "sentence_count = []\n",
        "matrix = []\n",
        "for sentence in sentences_splitted:\n",
        "  for word in tokens_updated:\n",
        "    n = sentence.count(word)\n",
        "    sentence_count.append(n)\n",
        "  matrix.append(sentence_count)\n",
        "  sentence_count = []\n",
        "matrix = np.array(matrix)"
      ],
      "execution_count": null,
      "outputs": []
    },
    {
      "cell_type": "code",
      "metadata": {
        "id": "AXqLuSHbdf4Q"
      },
      "source": [
        "matrix2 = [[sentence.count(word) for word in tokens] for sentence in sentences_splitted]"
      ],
      "execution_count": null,
      "outputs": []
    },
    {
      "cell_type": "code",
      "metadata": {
        "colab": {
          "base_uri": "https://localhost:8080/",
          "height": 238
        },
        "id": "zizhfM8hN_GX",
        "outputId": "939a18ba-49a1-447e-ce4a-91f1f39d3f82"
      },
      "source": [
        "from scipy.spatial import distance\n",
        "distances = []\n",
        "for line in matrix2:\n",
        "  \n",
        "  dis = distance.cosine(matrix[0],matrix[matrix.index(line)])\n",
        "  distances.append(dis)\n",
        "  print(dis)\n",
        "distances.sort()\n",
        "print(distances)"
      ],
      "execution_count": null,
      "outputs": [
        {
          "output_type": "error",
          "ename": "AttributeError",
          "evalue": "ignored",
          "traceback": [
            "\u001b[0;31m---------------------------------------------------------------------------\u001b[0m",
            "\u001b[0;31mAttributeError\u001b[0m                            Traceback (most recent call last)",
            "\u001b[0;32m<ipython-input-55-201059833a22>\u001b[0m in \u001b[0;36m<module>\u001b[0;34m()\u001b[0m\n\u001b[1;32m      3\u001b[0m \u001b[0;32mfor\u001b[0m \u001b[0mline\u001b[0m \u001b[0;32min\u001b[0m \u001b[0mmatrix2\u001b[0m\u001b[0;34m:\u001b[0m\u001b[0;34m\u001b[0m\u001b[0;34m\u001b[0m\u001b[0m\n\u001b[1;32m      4\u001b[0m \u001b[0;34m\u001b[0m\u001b[0m\n\u001b[0;32m----> 5\u001b[0;31m   \u001b[0mdis\u001b[0m \u001b[0;34m=\u001b[0m \u001b[0mdistance\u001b[0m\u001b[0;34m.\u001b[0m\u001b[0mcosine\u001b[0m\u001b[0;34m(\u001b[0m\u001b[0mmatrix\u001b[0m\u001b[0;34m[\u001b[0m\u001b[0;36m0\u001b[0m\u001b[0;34m]\u001b[0m\u001b[0;34m,\u001b[0m\u001b[0mmatrix\u001b[0m\u001b[0;34m[\u001b[0m\u001b[0mmatrix\u001b[0m\u001b[0;34m.\u001b[0m\u001b[0mindex\u001b[0m\u001b[0;34m(\u001b[0m\u001b[0mline\u001b[0m\u001b[0;34m)\u001b[0m\u001b[0;34m]\u001b[0m\u001b[0;34m)\u001b[0m\u001b[0;34m\u001b[0m\u001b[0;34m\u001b[0m\u001b[0m\n\u001b[0m\u001b[1;32m      6\u001b[0m   \u001b[0mdistances\u001b[0m\u001b[0;34m.\u001b[0m\u001b[0mappend\u001b[0m\u001b[0;34m(\u001b[0m\u001b[0mdis\u001b[0m\u001b[0;34m)\u001b[0m\u001b[0;34m\u001b[0m\u001b[0;34m\u001b[0m\u001b[0m\n\u001b[1;32m      7\u001b[0m   \u001b[0mprint\u001b[0m\u001b[0;34m(\u001b[0m\u001b[0mdis\u001b[0m\u001b[0;34m)\u001b[0m\u001b[0;34m\u001b[0m\u001b[0;34m\u001b[0m\u001b[0m\n",
            "\u001b[0;31mAttributeError\u001b[0m: 'numpy.ndarray' object has no attribute 'index'"
          ]
        }
      ]
    },
    {
      "cell_type": "code",
      "metadata": {
        "colab": {
          "base_uri": "https://localhost:8080/"
        },
        "id": "PXNGaMqLLPaa",
        "outputId": "0502175b-a02c-4716-8911-f21caf5d653f"
      },
      "source": [
        "for n in range(0,21):\n",
        "  dis = distance.cosine(matrix[0],matrix[n])\n",
        "  print(dis)"
      ],
      "execution_count": null,
      "outputs": [
        {
          "output_type": "stream",
          "text": [
            "0.0\n",
            "0.9527544408738466\n",
            "0.8644738145642124\n",
            "0.8951715163278082\n",
            "0.7770887149698589\n",
            "0.9402385695332803\n",
            "0.7327387580875756\n",
            "0.9258750683338899\n",
            "0.8842724875284311\n",
            "0.9055088817476932\n",
            "0.8328165362273942\n",
            "0.8804771390665607\n",
            "0.8396432548525454\n",
            "0.8703592552895671\n",
            "0.8740118423302576\n",
            "0.9442721787424647\n",
            "0.8406361854220809\n",
            "0.956644501523794\n",
            "0.9442721787424647\n",
            "0.8885443574849294\n",
            "0.8427572744917122\n"
          ],
          "name": "stdout"
        }
      ]
    },
    {
      "cell_type": "code",
      "metadata": {
        "id": "XiawL4EvO6J_"
      },
      "source": [
        ""
      ],
      "execution_count": null,
      "outputs": []
    }
  ]
}